{
 "cells": [
  {
   "cell_type": "code",
   "execution_count": 3,
   "metadata": {},
   "outputs": [],
   "source": [
    "# Import necessary libraries\n",
    "import neurolab as nl\n",
    "import numpy as np"
   ]
  },
  {
   "cell_type": "markdown",
   "metadata": {},
   "source": [
    "# Exercise # 1:\n",
    "Single Layer Feed Forward to Recognize Sum Pattern (20 marks)\n",
    "\n",
    "Requirements:\n",
    "\n",
    "1. **Create the training data (input):**\n",
    "   - Use `numpy` to generate two sets of 10 numbers drawn from a uniform distribution. Set the numbers to fall between -0.6 and +0.6.\n",
    "   - Save these numbers in a 10 by 2 `ndarray`, where each set is considered a feature.\n",
    "   - Name the `ndarray` as `input_firstname`, where `firstname` is your first name.\n",
    "\n",
    "2. **Create the target data (output):**\n",
    "   - The target output is the sum of the two random values for each instance of the input data.\n",
    "   - For example:\n",
    "\n",
    "     | Input Data   | Output Data |\n",
    "     |--------------|-------------|\n",
    "     | 0.1   0.45   | 0.55        |\n",
    "     | 0.035 0.21   | 0.245       |\n",
    "     | ...   ...    | ...         |\n",
    "\n",
    "     i.e., \\( y = x_1 + x_2 \\)\n",
    "\n",
    "   - Store the output in a `ndarray` of size 10 by 1.\n",
    "   - Name this `ndarray` as `output_firstname`, where `firstname` is your first name.\n",
    "\n",
    "3. **Set the seed:** `seed = 1`\n",
    "\n",
    "4. **Using `neurolab`, create a simple neural network:**\n",
    "   - The network should have:\n",
    "     - Two inputs\n",
    "     - Six neurons in a single layer\n",
    "     - One output\n",
    "\n",
    "5. **Train the network** using the input and output data created in points 1 and 2.\n",
    "   - Set the following parameters:\n",
    "     - `show=15`\n",
    "     - `goal=0.00001`\n",
    "\n",
    "6. **Train the network** using the 10 data points.\n",
    "\n",
    "7. **Test / Simulate the network:**\n",
    "   - Pass the following test values: 0.1 and 0.2\n",
    "   - Record the result under **result #1**.\n"
   ]
  },
  {
   "cell_type": "code",
   "execution_count": 4,
   "metadata": {},
   "outputs": [
    {
     "name": "stdout",
     "output_type": "stream",
     "text": [
      "Generated Input (input_beta):\n",
      " [[ 0.16754527 -0.4345532 ]\n",
      " [ 0.56410387  0.09429837]\n",
      " [ 0.34830393  0.12471413]\n",
      " [ 0.01541224 -0.125115  ]\n",
      " [-0.20940046  0.40414156]\n",
      " [ 0.57924423  0.01933473]\n",
      " [-0.16472714  0.05830873]\n",
      " [ 0.4569988   0.32199686]\n",
      " [ 0.27170288  0.517021  ]\n",
      " [ 0.00750782  0.39265213]]\n"
     ]
    }
   ],
   "source": [
    "# 1. Create the training data(input):\n",
    "# 2. Generating the training data (input)\n",
    "input_beta = np.random.uniform(-0.6, 0.6, (10, 2))\n",
    "print(\"Generated Input (input_beta):\\n\", input_beta)"
   ]
  },
  {
   "cell_type": "code",
   "execution_count": 5,
   "metadata": {},
   "outputs": [
    {
     "name": "stdout",
     "output_type": "stream",
     "text": [
      "Generated Output (output_beta):\n",
      " [[-0.26700793]\n",
      " [ 0.65840224]\n",
      " [ 0.47301806]\n",
      " [-0.10970277]\n",
      " [ 0.19474109]\n",
      " [ 0.59857896]\n",
      " [-0.10641841]\n",
      " [ 0.77899565]\n",
      " [ 0.78872389]\n",
      " [ 0.40015995]]\n"
     ]
    }
   ],
   "source": [
    "# 3. Creating the target data (output)\n",
    "output_beta = np.sum(input_beta, axis=1).reshape(10, 1)\n",
    "print(\"Generated Output (output_beta):\\n\", output_beta)"
   ]
  },
  {
   "cell_type": "code",
   "execution_count": 6,
   "metadata": {},
   "outputs": [],
   "source": [
    "# 4.1 Setting seed to 1\n",
    "np.random.seed(1)"
   ]
  },
  {
   "cell_type": "code",
   "execution_count": 7,
   "metadata": {},
   "outputs": [],
   "source": [
    "# 5. Setting up the neural network\n",
    "input_range = [[-0.6, 0.6], [-0.6, 0.6]]\n",
    "net = nl.net.newff(input_range, [6, 1])"
   ]
  },
  {
   "cell_type": "code",
   "execution_count": 8,
   "metadata": {},
   "outputs": [
    {
     "name": "stdout",
     "output_type": "stream",
     "text": [
      "Epoch: 15; Error: 0.25291552107598836;\n",
      "Epoch: 30; Error: 0.20454669859899993;\n",
      "Epoch: 45; Error: 0.17603485971501526;\n",
      "Epoch: 60; Error: 0.15566198160813272;\n",
      "Epoch: 75; Error: 0.141011620119376;\n",
      "Epoch: 90; Error: 0.1302936225610576;\n",
      "Epoch: 105; Error: 0.12212377426860503;\n",
      "Epoch: 120; Error: 0.11555549974481173;\n",
      "Epoch: 135; Error: 0.10999262157712787;\n",
      "Epoch: 150; Error: 0.10507704291936731;\n",
      "Epoch: 165; Error: 0.10059910010940154;\n",
      "Epoch: 180; Error: 0.09643744554549422;\n",
      "Epoch: 195; Error: 0.09252194357043732;\n",
      "Epoch: 210; Error: 0.08881173723864677;\n",
      "Epoch: 225; Error: 0.08528257293175796;\n",
      "Epoch: 240; Error: 0.08191955515965882;\n",
      "Epoch: 255; Error: 0.07871302203969008;\n",
      "Epoch: 270; Error: 0.0756561974526256;\n",
      "Epoch: 285; Error: 0.07274385236241139;\n",
      "Epoch: 300; Error: 0.06997154090676311;\n",
      "Epoch: 315; Error: 0.06733516604054623;\n",
      "Epoch: 330; Error: 0.06483073601528401;\n",
      "Epoch: 345; Error: 0.06245423273890525;\n",
      "Epoch: 360; Error: 0.06020154660809904;\n",
      "Epoch: 375; Error: 0.05806845130565944;\n",
      "Epoch: 390; Error: 0.05605060277506559;\n",
      "Epoch: 405; Error: 0.05414355273048662;\n",
      "Epoch: 420; Error: 0.052342770641273524;\n",
      "Epoch: 435; Error: 0.05064367026518648;\n",
      "Epoch: 450; Error: 0.04904163811838125;\n",
      "Epoch: 465; Error: 0.04753206211103202;\n",
      "Epoch: 480; Error: 0.046110359140231205;\n",
      "Epoch: 495; Error: 0.04477200082565811;\n",
      "The maximum number of train epochs is reached\n"
     ]
    }
   ],
   "source": [
    "# 6. Setting training parameters and 7. Training the network using the 10 data points.\n",
    "net.trainf = nl.train.train_gd  # Set training function to gradient descent\n",
    "error = net.train(input_beta, output_beta, show=15, goal=0.00001)"
   ]
  },
  {
   "cell_type": "code",
   "execution_count": 9,
   "metadata": {},
   "outputs": [
    {
     "name": "stdout",
     "output_type": "stream",
     "text": [
      "Result for test input [0.1, 0.2]: [[0.408845]]\n"
     ]
    }
   ],
   "source": [
    "# 8. Testing the network\n",
    "test_input = np.array([[0.1, 0.2]])\n",
    "result_1 = net.sim(test_input)\n",
    "print(\"Result for test input [0.1, 0.2]:\", result_1)"
   ]
  },
  {
   "cell_type": "markdown",
   "metadata": {},
   "source": []
  },
  {
   "cell_type": "markdown",
   "metadata": {},
   "source": []
  },
  {
   "cell_type": "markdown",
   "metadata": {},
   "source": [
    "# Exercise # 2:\n",
    "Multi-Layer Feed Forward to Recognize Sum Pattern (20 marks)\n",
    "\n",
    "1. **Repeat steps 1-8 from Exercise #1** except for step #5, where you will:\n",
    "   - Create a two-layer feed-forward network, i.e., two hidden layers:\n",
    "     - The first hidden layer with 5 neurons\n",
    "     - The second hidden layer with 3 neurons\n",
    "   - Set the following parameters:\n",
    "     - `epochs=1000`\n",
    "     - `show=100`\n",
    "     - `goal=0.00001`\n",
    "\n",
    "2. **Record the result** under **result #2**.\n",
    "\n",
    "3. **Set the training algorithm** to Gradient Descent Backpropagation.\n",
    "\n",
    "4. **Written Response**:\n",
    "   - Compare **result #1** to **result #2** and to the actual result.\n",
    "   - Explain your findings.\n"
   ]
  },
  {
   "cell_type": "code",
   "execution_count": 10,
   "metadata": {},
   "outputs": [
    {
     "name": "stdout",
     "output_type": "stream",
     "text": [
      "Generated Input (input_beta):\n",
      " [[-0.43153567 -0.36227821]\n",
      " [ 0.36089348  0.56191389]\n",
      " [-0.22389099  0.23078714]\n",
      " [ 0.45166698  0.473528  ]\n",
      " [-0.49794695 -0.55313426]\n",
      " [-0.3962035   0.453771  ]\n",
      " [-0.4819838  -0.09467085]\n",
      " [ 0.54946744  0.03979834]\n",
      " [ 0.23025254 -0.22138124]\n",
      " [ 0.22380111  0.40155081]]\n"
     ]
    }
   ],
   "source": [
    "# 1. Create the training data(input):\n",
    "# 2. Generating the training data (input)\n",
    "input_beta = np.random.uniform(-0.6, 0.6, (10, 2))\n",
    "print(\"Generated Input (input_beta):\\n\", input_beta)"
   ]
  },
  {
   "cell_type": "code",
   "execution_count": 11,
   "metadata": {},
   "outputs": [
    {
     "name": "stdout",
     "output_type": "stream",
     "text": [
      "Generated Output (output_beta):\n",
      " [[-0.79381389]\n",
      " [ 0.92280737]\n",
      " [ 0.00689615]\n",
      " [ 0.92519498]\n",
      " [-1.05108121]\n",
      " [ 0.05756751]\n",
      " [-0.57665465]\n",
      " [ 0.58926578]\n",
      " [ 0.00887129]\n",
      " [ 0.62535192]]\n"
     ]
    }
   ],
   "source": [
    "# 3. Creating the target data (output)\n",
    "output_beta = np.sum(input_beta, axis=1).reshape(10, 1)\n",
    "print(\"Generated Output (output_beta):\\n\", output_beta)"
   ]
  },
  {
   "cell_type": "code",
   "execution_count": 12,
   "metadata": {},
   "outputs": [],
   "source": [
    "# 4. Setting seed to 1\n",
    "np.random.seed(1)"
   ]
  },
  {
   "cell_type": "code",
   "execution_count": 13,
   "metadata": {},
   "outputs": [],
   "source": [
    "# 5. Setting up the neural network: 5 neurons in the first layer, 3 in the second, 1 output\n",
    "input_range = [[-0.6, 0.6], [-0.6, 0.6]]\n",
    "net = nl.net.newff(input_range, [5, 3, 1])"
   ]
  },
  {
   "cell_type": "code",
   "execution_count": 14,
   "metadata": {},
   "outputs": [
    {
     "name": "stdout",
     "output_type": "stream",
     "text": [
      "Epoch: 100; Error: 0.49594434110722835;\n",
      "Epoch: 200; Error: 0.43612509719028464;\n",
      "Epoch: 300; Error: 0.366132765364826;\n",
      "Epoch: 400; Error: 0.2627629316348087;\n",
      "Epoch: 500; Error: 0.17763969459287274;\n",
      "Epoch: 600; Error: 0.13591220973394372;\n",
      "Epoch: 700; Error: 0.11447439735414333;\n",
      "Epoch: 800; Error: 0.10397911535689794;\n",
      "Epoch: 900; Error: 0.09913731931714065;\n",
      "Epoch: 1000; Error: 0.09679992618680057;\n",
      "The maximum number of train epochs is reached\n"
     ]
    }
   ],
   "source": [
    "# 6. Setting training parameters: epochs=1000, show=100, goal=0.00001\n",
    "# 7. Training the network using the 10 data points.\n",
    "net.trainf = nl.train.train_gd  # train_gd provides gradient descent with backpropagation\n",
    "error = net.train(input_beta, output_beta, epochs=1000, show=100, goal=0.00001)"
   ]
  },
  {
   "cell_type": "code",
   "execution_count": 16,
   "metadata": {},
   "outputs": [
    {
     "name": "stdout",
     "output_type": "stream",
     "text": [
      "Result for test input [0.1, 0.2]: [[0.50169851]]\n"
     ]
    }
   ],
   "source": [
    "# 8. Testing the network\n",
    "test_input = np.array([[0.1, 0.2]])\n",
    "result_2 = net.sim(test_input)\n",
    "print(\"Result for test input [0.1, 0.2]:\", result_2)"
   ]
  },
  {
   "cell_type": "code",
   "execution_count": null,
   "metadata": {},
   "outputs": [],
   "source": []
  },
  {
   "cell_type": "code",
   "execution_count": null,
   "metadata": {},
   "outputs": [],
   "source": []
  },
  {
   "cell_type": "markdown",
   "metadata": {},
   "source": [
    "# Exercise # 3:\n",
    "Single-Layer Feed Forward to Recognize Sum Pattern with More Training Data (20 marks)\n",
    "\n",
    "1. **Repeat steps 1-3 from Exercise #1**:\n",
    "   - Generate 100 random instances this time instead of 10.\n",
    "\n",
    "2. **Repeat steps 4-8 from Exercise #1**.\n",
    "\n",
    "3. **Record the result** as **result #3**.\n",
    "\n",
    "4. **Written Response**:\n",
    "   - Compare **result #1** to **result #3** and to the actual result.\n",
    "   - Explain your findings.\n"
   ]
  },
  {
   "cell_type": "markdown",
   "metadata": {},
   "source": [
    "# Exercise # 4:\n",
    "Multi-Layer Feed Forward to Recognize Sum Pattern with More Training Data (20 marks)\n",
    "\n",
    "1. **Repeat step #1 in Exercise #3**:\n",
    "   - Generate 100 random samples as the training data.\n",
    "\n",
    "2. **Create a two-layer feed-forward network**:\n",
    "   - Two hidden layers:\n",
    "     - The first hidden layer with 5 neurons\n",
    "     - The second hidden layer with 3 neurons\n",
    "   - Set the following parameters:\n",
    "     - `epochs=1000`\n",
    "     - `show=100`\n",
    "     - `goal=0.00001`\n",
    "\n",
    "3. **Set the training algorithm** to Gradient Descent Backpropagation.\n",
    "\n",
    "4. **Train the network** using the 100 data points.\n",
    "\n",
    "5. **Plot the error vs. training size** graph.\n",
    "\n",
    "6. **Test / Simulate the network**:\n",
    "   - Pass the following test values: 0.1 and 0.2.\n",
    "   - Record the result under **result #4**.\n",
    "\n",
    "7. **Written Response**:\n",
    "   - Compare **result #3** to **result #4** and to the actual result.\n",
    "   - Explain your findings.\n"
   ]
  },
  {
   "cell_type": "markdown",
   "metadata": {},
   "source": [
    "# Exercise # 5:\n",
    "Three-Input Multi-Layer Feed Forward to Recognize Sum Pattern with More Training Data (20 marks)\n",
    "\n",
    "1. **Repeat Exercise #1**:\n",
    "   - Instead of two inputs, generate **three inputs** for the training data.\n",
    "\n",
    "2. **Test / Simulate the Network**:\n",
    "   - Use the test sample `[0.2, 0.1, 0.2]`.\n",
    "   - Record the results as **result #5**.\n",
    "\n",
    "3. **Repeat Exercise #4**:\n",
    "   - Modify it to have **three inputs** instead of two.\n",
    "\n",
    "4. **Test / Simulate the Network**:\n",
    "   - Use the test sample `[0.2, 0.1, 0.2]`.\n",
    "   - Record the results as **result #6**.\n",
    "\n",
    "5. **Written Response**:\n",
    "   - Compare **result #5** to **result #6** and to the actual result.\n",
    "   - Explain your findings.\n"
   ]
  }
 ],
 "metadata": {
  "kernelspec": {
   "display_name": "Python 3 (ipykernel)",
   "language": "python",
   "name": "python3"
  },
  "language_info": {
   "codemirror_mode": {
    "name": "ipython",
    "version": 3
   },
   "file_extension": ".py",
   "mimetype": "text/x-python",
   "name": "python",
   "nbconvert_exporter": "python",
   "pygments_lexer": "ipython3",
   "version": "3.11.7"
  }
 },
 "nbformat": 4,
 "nbformat_minor": 2
}
