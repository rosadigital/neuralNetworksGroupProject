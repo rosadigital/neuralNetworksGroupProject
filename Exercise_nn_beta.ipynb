{
 "cells": [
  {
   "cell_type": "code",
   "execution_count": 14,
   "metadata": {},
   "outputs": [],
   "source": [
    "# Import necessary libraries\n",
    "import neurolab as nl\n",
    "import numpy as np"
   ]
  },
  {
   "cell_type": "markdown",
   "metadata": {},
   "source": [
    "# Exercise # 1:\n",
    "Single Layer Feed Forward to Recognize Sum Pattern (20 marks)\n",
    "\n",
    "Requirements:\n",
    "\n",
    "1. **Create the training data (input):**\n",
    "   - Use `numpy` to generate two sets of 10 numbers drawn from a uniform distribution. Set the numbers to fall between -0.6 and +0.6.\n",
    "   - Save these numbers in a 10 by 2 `ndarray`, where each set is considered a feature.\n",
    "   - Name the `ndarray` as `input_firstname`, where `firstname` is your first name.\n",
    "\n",
    "2. **Create the target data (output):**\n",
    "   - The target output is the sum of the two random values for each instance of the input data.\n",
    "   - For example:\n",
    "\n",
    "     | Input Data   | Output Data |\n",
    "     |--------------|-------------|\n",
    "     | 0.1   0.45   | 0.55        |\n",
    "     | 0.035 0.21   | 0.245       |\n",
    "     | ...   ...    | ...         |\n",
    "\n",
    "     i.e., \\( y = x_1 + x_2 \\)\n",
    "\n",
    "   - Store the output in a `ndarray` of size 10 by 1.\n",
    "   - Name this `ndarray` as `output_firstname`, where `firstname` is your first name.\n",
    "\n",
    "3. **Set the seed:** `seed = 1`\n",
    "\n",
    "4. **Using `neurolab`, create a simple neural network:**\n",
    "   - The network should have:\n",
    "     - Two inputs\n",
    "     - Six neurons in a single layer\n",
    "     - One output\n",
    "\n",
    "5. **Train the network** using the input and output data created in points 1 and 2.\n",
    "   - Set the following parameters:\n",
    "     - `show=15`\n",
    "     - `goal=0.00001`\n",
    "\n",
    "6. **Train the network** using the 10 data points.\n",
    "\n",
    "7. **Test / Simulate the network:**\n",
    "   - Pass the following test values: 0.1 and 0.2\n",
    "   - Record the result under **result #1**.\n"
   ]
  },
  {
   "cell_type": "code",
   "execution_count": 27,
   "metadata": {},
   "outputs": [
    {
     "name": "stdout",
     "output_type": "stream",
     "text": [
      "Generated Input (input_beta):\n",
      " [[ 0.36089348  0.56191389]\n",
      " [-0.22389099  0.23078714]\n",
      " [ 0.45166698  0.473528  ]\n",
      " [-0.49794695 -0.55313426]\n",
      " [-0.3962035   0.453771  ]\n",
      " [-0.4819838  -0.09467085]\n",
      " [ 0.54946744  0.03979834]\n",
      " [ 0.23025254 -0.22138124]\n",
      " [ 0.22380111  0.40155081]\n",
      " [-0.57805407  0.30017318]]\n"
     ]
    }
   ],
   "source": [
    "# 1. Create the training data(input):\n",
    "# 2. Generating the training data (input)\n",
    "input_beta = np.random.uniform(-0.6, 0.6, (10, 2))\n",
    "print(\"Generated Input (input_beta):\\n\", input_beta)"
   ]
  },
  {
   "cell_type": "code",
   "execution_count": 28,
   "metadata": {},
   "outputs": [
    {
     "name": "stdout",
     "output_type": "stream",
     "text": [
      "Generated Output (output_beta):\n",
      " [[ 0.92280737]\n",
      " [ 0.00689615]\n",
      " [ 0.92519498]\n",
      " [-1.05108121]\n",
      " [ 0.05756751]\n",
      " [-0.57665465]\n",
      " [ 0.58926578]\n",
      " [ 0.00887129]\n",
      " [ 0.62535192]\n",
      " [-0.27788089]]\n"
     ]
    }
   ],
   "source": [
    "# 3. Creating the target data (output)\n",
    "output_beta = np.sum(input_beta, axis=1).reshape(10, 1)\n",
    "print(\"Generated Output (output_beta):\\n\", output_beta)"
   ]
  },
  {
   "cell_type": "code",
   "execution_count": 30,
   "metadata": {},
   "outputs": [],
   "source": [
    "# 4.1 Setting seed to 1\n",
    "np.random.seed(1)"
   ]
  },
  {
   "cell_type": "code",
   "execution_count": 34,
   "metadata": {},
   "outputs": [
    {
     "name": "stdout",
     "output_type": "stream",
     "text": [
      "Modified np.asarray to np.asarray with dtype=float\n",
      "Modified np.asarray to np.asarray with dtype=float\n"
     ]
    }
   ],
   "source": [
    "# 5. Setting up the neural network\n",
    "input_range = [[-0.6, 0.6], [-0.6, 0.6]]\n",
    "net = nl.net.newff(input_range, [6, 1])"
   ]
  },
  {
   "cell_type": "code",
   "execution_count": 36,
   "metadata": {},
   "outputs": [
    {
     "name": "stdout",
     "output_type": "stream",
     "text": [
      "Epoch: 15; Error: 0.0290393737239773;\n",
      "Epoch: 30; Error: 0.028282716187437572;\n",
      "Epoch: 45; Error: 0.027575767356788468;\n",
      "Epoch: 60; Error: 0.026914495935723523;\n",
      "Epoch: 75; Error: 0.02629520747881307;\n",
      "Epoch: 90; Error: 0.025714515791794804;\n",
      "Epoch: 105; Error: 0.02516931691611334;\n",
      "Epoch: 120; Error: 0.024656765410150723;\n",
      "Epoch: 135; Error: 0.024174252688420012;\n",
      "Epoch: 150; Error: 0.02371938721644706;\n",
      "Epoch: 165; Error: 0.02328997638687937;\n",
      "Epoch: 180; Error: 0.022884009924103565;\n",
      "Epoch: 195; Error: 0.0224996446820702;\n",
      "Epoch: 210; Error: 0.02213519071432683;\n",
      "Epoch: 225; Error: 0.02178909850727126;\n",
      "Epoch: 240; Error: 0.02145994727793128;\n",
      "Epoch: 255; Error: 0.02114643424655189;\n",
      "Epoch: 270; Error: 0.020847364802204043;\n",
      "Epoch: 285; Error: 0.02056164348671628;\n",
      "Epoch: 300; Error: 0.020288265728615407;\n",
      "Epoch: 315; Error: 0.020026310264546605;\n",
      "Epoch: 330; Error: 0.019774932190907143;\n",
      "Epoch: 345; Error: 0.019533356593229946;\n",
      "Epoch: 360; Error: 0.019300872705243034;\n",
      "Epoch: 375; Error: 0.019076828553550376;\n",
      "Epoch: 390; Error: 0.01886062604755742;\n",
      "Epoch: 405; Error: 0.01865171647763718;\n",
      "Epoch: 420; Error: 0.01844959638762133;\n",
      "Epoch: 435; Error: 0.018253803790531303;\n",
      "Epoch: 450; Error: 0.018063914699056657;\n",
      "Epoch: 465; Error: 0.017879539944665467;\n",
      "Epoch: 480; Error: 0.01770032226140623;\n",
      "Epoch: 495; Error: 0.017525933612455476;\n",
      "The maximum number of train epochs is reached\n"
     ]
    }
   ],
   "source": [
    "# 6. Setting training parameters and 7. Training the network using the 10 data points.\n",
    "net.trainf = nl.train.train_gd  # Set training function to gradient descent\n",
    "error = net.train(input_beta, output_beta, show=15, goal=0.00001)"
   ]
  },
  {
   "cell_type": "code",
   "execution_count": 38,
   "metadata": {},
   "outputs": [
    {
     "name": "stdout",
     "output_type": "stream",
     "text": [
      "Result for test input [0.1, 0.2]: [[0.17724707]]\n"
     ]
    }
   ],
   "source": [
    "# 8. Testing the network\n",
    "test_input = np.array([[0.1, 0.2]])\n",
    "result_1 = net.sim(test_input)\n",
    "print(\"Result for test input [0.1, 0.2]:\", result_1)"
   ]
  },
  {
   "cell_type": "markdown",
   "metadata": {},
   "source": [
    "# Exercise # 2:\n",
    "Multi-Layer Feed Forward to Recognize Sum Pattern (20 marks)\n",
    "\n",
    "1. **Repeat steps 1-8 from Exercise #1** except for step #5, where you will:\n",
    "   - Create a two-layer feed-forward network, i.e., two hidden layers:\n",
    "     - The first hidden layer with 5 neurons\n",
    "     - The second hidden layer with 3 neurons\n",
    "   - Set the following parameters:\n",
    "     - `epochs=1000`\n",
    "     - `show=100`\n",
    "     - `goal=0.00001`\n",
    "\n",
    "2. **Record the result** under **result #2**.\n",
    "\n",
    "3. **Set the training algorithm** to Gradient Descent Backpropagation.\n",
    "\n",
    "4. **Written Response**:\n",
    "   - Compare **result #1** to **result #2** and to the actual result.\n",
    "   - Explain your findings.\n"
   ]
  },
  {
   "cell_type": "markdown",
   "metadata": {},
   "source": [
    "# Exercise # 3:\n",
    "Single-Layer Feed Forward to Recognize Sum Pattern with More Training Data (20 marks)\n",
    "\n",
    "1. **Repeat steps 1-3 from Exercise #1**:\n",
    "   - Generate 100 random instances this time instead of 10.\n",
    "\n",
    "2. **Repeat steps 4-8 from Exercise #1**.\n",
    "\n",
    "3. **Record the result** as **result #3**.\n",
    "\n",
    "4. **Written Response**:\n",
    "   - Compare **result #1** to **result #3** and to the actual result.\n",
    "   - Explain your findings.\n"
   ]
  },
  {
   "cell_type": "markdown",
   "metadata": {},
   "source": [
    "# Exercise # 4:\n",
    "Multi-Layer Feed Forward to Recognize Sum Pattern with More Training Data (20 marks)\n",
    "\n",
    "1. **Repeat step #1 in Exercise #3**:\n",
    "   - Generate 100 random samples as the training data.\n",
    "\n",
    "2. **Create a two-layer feed-forward network**:\n",
    "   - Two hidden layers:\n",
    "     - The first hidden layer with 5 neurons\n",
    "     - The second hidden layer with 3 neurons\n",
    "   - Set the following parameters:\n",
    "     - `epochs=1000`\n",
    "     - `show=100`\n",
    "     - `goal=0.00001`\n",
    "\n",
    "3. **Set the training algorithm** to Gradient Descent Backpropagation.\n",
    "\n",
    "4. **Train the network** using the 100 data points.\n",
    "\n",
    "5. **Plot the error vs. training size** graph.\n",
    "\n",
    "6. **Test / Simulate the network**:\n",
    "   - Pass the following test values: 0.1 and 0.2.\n",
    "   - Record the result under **result #4**.\n",
    "\n",
    "7. **Written Response**:\n",
    "   - Compare **result #3** to **result #4** and to the actual result.\n",
    "   - Explain your findings.\n"
   ]
  },
  {
   "cell_type": "markdown",
   "metadata": {},
   "source": [
    "# Exercise # 5:\n",
    "Three-Input Multi-Layer Feed Forward to Recognize Sum Pattern with More Training Data (20 marks)\n",
    "\n",
    "1. **Repeat Exercise #1**:\n",
    "   - Instead of two inputs, generate **three inputs** for the training data.\n",
    "\n",
    "2. **Test / Simulate the Network**:\n",
    "   - Use the test sample `[0.2, 0.1, 0.2]`.\n",
    "   - Record the results as **result #5**.\n",
    "\n",
    "3. **Repeat Exercise #4**:\n",
    "   - Modify it to have **three inputs** instead of two.\n",
    "\n",
    "4. **Test / Simulate the Network**:\n",
    "   - Use the test sample `[0.2, 0.1, 0.2]`.\n",
    "   - Record the results as **result #6**.\n",
    "\n",
    "5. **Written Response**:\n",
    "   - Compare **result #5** to **result #6** and to the actual result.\n",
    "   - Explain your findings.\n"
   ]
  }
 ],
 "metadata": {
  "kernelspec": {
   "display_name": ".venv",
   "language": "python",
   "name": "python3"
  },
  "language_info": {
   "codemirror_mode": {
    "name": "ipython",
    "version": 3
   },
   "file_extension": ".py",
   "mimetype": "text/x-python",
   "name": "python",
   "nbconvert_exporter": "python",
   "pygments_lexer": "ipython3",
   "version": "3.11.4"
  }
 },
 "nbformat": 4,
 "nbformat_minor": 2
}
